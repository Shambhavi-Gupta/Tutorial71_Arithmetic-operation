{
  "nbformat": 4,
  "nbformat_minor": 0,
  "metadata": {
    "colab": {
      "name": "Tutorial71_Arithmetic-operation.ipynb",
      "provenance": [],
      "authorship_tag": "ABX9TyOV8Yiy3J7RxbhsIP/nerMQ",
      "include_colab_link": true
    },
    "kernelspec": {
      "name": "python3",
      "display_name": "Python 3"
    }
  },
  "cells": [
    {
      "cell_type": "markdown",
      "metadata": {
        "id": "view-in-github",
        "colab_type": "text"
      },
      "source": [
        "<a href=\"https://colab.research.google.com/github/Shambhavi-Gupta/Tutorial71_Arithmetic-operation/blob/main/Tutorial71_Arithmetic_operation.ipynb\" target=\"_parent\"><img src=\"https://colab.research.google.com/assets/colab-badge.svg\" alt=\"Open In Colab\"/></a>"
      ]
    },
    {
      "cell_type": "code",
      "metadata": {
        "id": "2_Xw6jSuNgSz"
      },
      "source": [
        "import numpy as np\r\n",
        "# a = np.arange(1,5)\r\n",
        "# print(a)\r\n",
        "# print(a+2)\r\n",
        "# print(a*5)\r\n",
        "# print(a**2)\r\n",
        "\r\n",
        "# b = np.array([[5,6],[7,8]])\r\n",
        "# print(b)\r\n",
        "# print(b * 4)\r\n",
        "\r\n",
        "a = np.arange(1,5)\r\n",
        "b = np.array([5,6,7,8])\r\n",
        "print(a)\r\n",
        "print(b)\r\n",
        "print(a+b)\r\n",
        "print(a * b)"
      ],
      "execution_count": null,
      "outputs": []
    }
  ]
}